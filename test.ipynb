{
 "cells": [
  {
   "cell_type": "code",
   "execution_count": 1,
   "metadata": {},
   "outputs": [],
   "source": [
    "from torchrc.models.rnn2.rnn2 import RNN2Layer\n",
    "from torchrc.models.initializers import sparse, orthogonal\n",
    "import random"
   ]
  },
  {
   "cell_type": "code",
   "execution_count": 2,
   "metadata": {},
   "outputs": [],
   "source": [
    "block_sizes = [32 for _ in range(16)]\n",
    "h_size = sum(block_sizes)\n",
    "\n",
    "couplings = [(i, j) for i in range(16) for j in range(16) if i < j]\n",
    "random.shuffle(couplings)\n",
    "couplings = couplings[:20]\n",
    "block_init_fn = lambda x: sparse(x, 0.03)\n",
    "coupling_init_fn = lambda x: orthogonal(x, 0.9)"
   ]
  },
  {
   "cell_type": "code",
   "execution_count": 3,
   "metadata": {},
   "outputs": [],
   "source": [
    "model = RNN2Layer(\n",
    "    input_size=1,\n",
    "    block_sizes=block_sizes,\n",
    "    coupling_indices=couplings,\n",
    "    block_init_fn=block_init_fn,\n",
    "    coupling_block_init_fn=coupling_init_fn,\n",
    "    eul_step=0.03,\n",
    "    activation=\"relu\",\n",
    ")"
   ]
  },
  {
   "cell_type": "code",
   "execution_count": 4,
   "metadata": {},
   "outputs": [],
   "source": [
    "from torchrc.data.datasets.seq_mnist import SequentialMNIST\n",
    "\n",
    "dataset = SequentialMNIST(\"./\", train=True, download=True)"
   ]
  },
  {
   "cell_type": "code",
   "execution_count": 7,
   "metadata": {},
   "outputs": [],
   "source": [
    "from torch import nn\n",
    "\n",
    "out_transform = nn.Linear(model.hidden_size, 10) "
   ]
  },
  {
   "cell_type": "code",
   "execution_count": 8,
   "metadata": {},
   "outputs": [],
   "source": [
    "input_data = dataset[0][0].unsqueeze(1)"
   ]
  },
  {
   "cell_type": "code",
   "execution_count": 9,
   "metadata": {},
   "outputs": [
    {
     "data": {
      "text/plain": [
       "tensor([-0.0066, -0.0054, -0.0113,  0.0392, -0.0079, -0.0104,  0.0150, -0.0323,\n",
       "         0.0074,  0.0308], grad_fn=<SelectBackward0>)"
      ]
     },
     "execution_count": 9,
     "metadata": {},
     "output_type": "execute_result"
    }
   ],
   "source": [
    "out_transform(model(input_data))[-1]"
   ]
  },
  {
   "cell_type": "code",
   "execution_count": null,
   "metadata": {},
   "outputs": [],
   "source": [
    "from torch.utils.data import DataLoader\n",
    "\n",
    "dataloader = DataLoader(dataset, batch_size=32, shuffle=True)"
   ]
  }
 ],
 "metadata": {
  "kernelspec": {
   "display_name": "torchrc",
   "language": "python",
   "name": "python3"
  },
  "language_info": {
   "codemirror_mode": {
    "name": "ipython",
    "version": 3
   },
   "file_extension": ".py",
   "mimetype": "text/x-python",
   "name": "python",
   "nbconvert_exporter": "python",
   "pygments_lexer": "ipython3",
   "version": "3.11.9"
  }
 },
 "nbformat": 4,
 "nbformat_minor": 2
}
